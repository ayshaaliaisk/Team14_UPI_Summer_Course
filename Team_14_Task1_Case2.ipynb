{
  "nbformat": 4,
  "nbformat_minor": 0,
  "metadata": {
    "colab": {
      "provenance": []
    },
    "kernelspec": {
      "name": "python3",
      "display_name": "Python 3"
    },
    "language_info": {
      "name": "python"
    }
  },
  "cells": [
    {
      "cell_type": "markdown",
      "source": [
        "Team Members:\n",
        "\n",
        "- Ilham Akbar - Universitas Pendidikan Indonesia\n",
        "- Arisha Zulfah Binti Abdul Razak - Sekolah Menengah Kebangsaan Tinggi\n",
        "Perempuan Melaka\n",
        "- Aysha Alia Iskandar - Universitas Pendidikan Indonesia\n",
        "- Mubasir Khan - University of Swabi\n",
        "- Abdul Basit Khan - University of Swabi"
      ],
      "metadata": {
        "id": "Ome5x4ral6_k"
      }
    },
    {
      "cell_type": "markdown",
      "source": [
        "# Case Study in Python Programming - Task 1"
      ],
      "metadata": {
        "id": "H-MKyXPql13z"
      }
    },
    {
      "cell_type": "markdown",
      "source": [
        "## Second Case Study : A Game of Chance - Crap\n",
        "\n",
        "*   You roll two six-sided dice, each with faces containing one, two, three, four, five and six spots, respectively. When the dice come to rest, the sum of the spots on the two upward faces is calculated.\n",
        "*   If the sum is 7 or 11 on the first roll, you win. If the sum is 2, 3 or 12 on the first roll (called “craps”), you lose (i.e., the “house” wins).\n",
        "\n",
        "*   If the sum is 4, 5, 6, 8, 9 or 10 on the first roll, that sum becomes your “point.” To win, you must continue rolling the dice until you “make your point” (i.e., roll that same point value). You lose by rolling a 7 before making your point."
      ],
      "metadata": {
        "id": "4jbjljXjGjsV"
      }
    },
    {
      "cell_type": "code",
      "source": [
        "import random\n",
        "import time\n",
        "\n",
        "def roll_dice():\n",
        "    \"\"\"Roll two six-sided dice and return their sum.\"\"\"\n",
        "    print(\"Rolling the dice...\")\n",
        "    time.sleep(2)\n",
        "    dice1 = random.randint(1, 6)\n",
        "    dice2 = random.randint(1, 6)\n",
        "    return dice1 + dice2\n",
        "\n",
        "def play_craps():\n",
        "    \"\"\"Play a game of Craps.\"\"\"\n",
        "    print(\"Welcome to the game of Craps!\")\n",
        "\n",
        "    first_roll = roll_dice()\n",
        "    print(f\"First roll: {first_roll}\")\n",
        "\n",
        "    if first_roll in (7, 11):\n",
        "        print(\"You win!\")\n",
        "    elif first_roll in (2, 3, 12):\n",
        "        print(\"You lose!\")\n",
        "    else:\n",
        "        print(f\"Your point is {first_roll}\")\n",
        "        while True:\n",
        "            next_roll = roll_dice()\n",
        "            print(f\"Next roll: {next_roll}\")\n",
        "            if next_roll == first_roll:\n",
        "                print(\"You made your point! You win!\")\n",
        "                break\n",
        "            elif next_roll == 7:\n",
        "                print(\"You rolled a 7\\nYou lose!\")\n",
        "\n",
        "                break\n",
        "\n",
        "if __name__ == \"__main__\":\n",
        "    play_craps()"
      ],
      "metadata": {
        "colab": {
          "base_uri": "https://localhost:8080/"
        },
        "id": "A_XQwtZ7GtqV",
        "outputId": "1dfb51ba-bfb5-405c-ba8b-1a6764229df3"
      },
      "execution_count": null,
      "outputs": [
        {
          "output_type": "stream",
          "name": "stdout",
          "text": [
            "Welcome to the game of Craps!\n",
            "Rolling the dice...\n",
            "First roll: 8\n",
            "Your point is 8\n",
            "Rolling the dice...\n",
            "Next roll: 10\n",
            "Rolling the dice...\n",
            "Next roll: 4\n",
            "Rolling the dice...\n",
            "Next roll: 6\n",
            "Rolling the dice...\n",
            "Next roll: 8\n",
            "You made your point! You win!\n"
          ]
        }
      ]
    }
  ]
}