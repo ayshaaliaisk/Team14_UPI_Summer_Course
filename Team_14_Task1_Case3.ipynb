{
  "nbformat": 4,
  "nbformat_minor": 0,
  "metadata": {
    "colab": {
      "provenance": []
    },
    "kernelspec": {
      "name": "python3",
      "display_name": "Python 3"
    },
    "language_info": {
      "name": "python"
    }
  },
  "cells": [
    {
      "cell_type": "markdown",
      "source": [
        "Team Members:\n",
        "\n",
        "- Ilham Akbar - Universitas Pendidikan Indonesia\n",
        "- Arisha Zulfah Binti Abdul Razak - Sekolah Menengah Kebangsaan Tinggi\n",
        "Perempuan Melaka\n",
        "- Aysha Alia Iskandar - Universitas Pendidikan Indonesia\n",
        "- Mubasir Khan - University of Swabi\n",
        "- Abdul Basit Khan - University of Swabi"
      ],
      "metadata": {
        "id": "GGa7awsmp2YR"
      }
    },
    {
      "cell_type": "markdown",
      "source": [
        "# Case Study in Python Programming - Task 1\n"
      ],
      "metadata": {
        "id": "J47T0Ixhmfpy"
      }
    },
    {
      "cell_type": "markdown",
      "source": [
        "## Third Case Study : COVID 19 Infection Statistic\n",
        "\n",
        "- (COVID-19 Infection Statistics) During the first 20 days of the COVID-19 pandemic, the number of newly infected patients per day in a country were recorded.\n",
        "\n",
        "- Place the following numbers in a list: 174, 335, 278, 214, 422, 513, 737, 672, 489, 412, 1301, 1105, 1123, 1376, 1502, 894, 665, 1704, 1656, 1342 Use the built-in functions in the statistics module to display the following statistics concerning the infection rate: minimum, maximum,range, mean, median, variance, and standard deviation."
      ],
      "metadata": {
        "id": "vA_-bBTAmkZ-"
      }
    },
    {
      "cell_type": "code",
      "source": [
        " infected_patients_per_day = [174, 335, 278, 214, 422, 513, 737, 672, 489, 412, 1301, 1105, 1123, 1376, 1502, 894, 665, 1704, 1656, 1342]"
      ],
      "metadata": {
        "id": "uAAjEMsBEpjR"
      },
      "execution_count": null,
      "outputs": []
    },
    {
      "cell_type": "code",
      "source": [
        "## MINIMUM\n",
        "min(infected_patients_per_day)"
      ],
      "metadata": {
        "colab": {
          "base_uri": "https://localhost:8080/"
        },
        "id": "p4htCws2Gg_v",
        "outputId": "20d62175-006a-4d38-a3f7-f99f2f79ee75"
      },
      "execution_count": null,
      "outputs": [
        {
          "output_type": "execute_result",
          "data": {
            "text/plain": [
              "174"
            ]
          },
          "metadata": {},
          "execution_count": 28
        }
      ]
    },
    {
      "cell_type": "code",
      "source": [
        "## MAXIMUM\n",
        "max(infected_patients_per_day)"
      ],
      "metadata": {
        "colab": {
          "base_uri": "https://localhost:8080/"
        },
        "id": "S3pQXiCfFNWf",
        "outputId": "7a906575-57df-4a68-844d-b0d57fe8428b"
      },
      "execution_count": null,
      "outputs": [
        {
          "output_type": "execute_result",
          "data": {
            "text/plain": [
              "1704"
            ]
          },
          "metadata": {},
          "execution_count": 29
        }
      ]
    },
    {
      "cell_type": "code",
      "source": [
        "## RANGE\n",
        "range_infected_patients = max(infected_patients_per_day) - min(infected_patients_per_day)\n",
        "print(range_infected_patients)"
      ],
      "metadata": {
        "colab": {
          "base_uri": "https://localhost:8080/"
        },
        "id": "oc4oKq__INKm",
        "outputId": "3b4be19d-5fa2-4587-dfd1-8752a4e4391b"
      },
      "execution_count": null,
      "outputs": [
        {
          "output_type": "stream",
          "name": "stdout",
          "text": [
            "1530\n"
          ]
        }
      ]
    },
    {
      "cell_type": "code",
      "source": [
        "import statistics as st"
      ],
      "metadata": {
        "id": "3Rf7xYbgHT1M"
      },
      "execution_count": null,
      "outputs": []
    },
    {
      "cell_type": "code",
      "source": [
        "## MEAN\n",
        "st.mean(infected_patients_per_day)"
      ],
      "metadata": {
        "colab": {
          "base_uri": "https://localhost:8080/"
        },
        "id": "TIrBJXNnHV0l",
        "outputId": "4931fca1-8653-4ce5-a898-bd9ff6819810"
      },
      "execution_count": null,
      "outputs": [
        {
          "output_type": "execute_result",
          "data": {
            "text/plain": [
              "845.7"
            ]
          },
          "metadata": {},
          "execution_count": 31
        }
      ]
    },
    {
      "cell_type": "code",
      "source": [
        "## MEDIAN\n",
        "st.median(infected_patients_per_day)"
      ],
      "metadata": {
        "colab": {
          "base_uri": "https://localhost:8080/"
        },
        "id": "cNQOrIMwHaxs",
        "outputId": "2091679e-edb7-410f-ba1a-ee8053bedd9c"
      },
      "execution_count": null,
      "outputs": [
        {
          "output_type": "execute_result",
          "data": {
            "text/plain": [
              "704.5"
            ]
          },
          "metadata": {},
          "execution_count": 32
        }
      ]
    },
    {
      "cell_type": "code",
      "source": [
        "## VARIANCE\n",
        "st.variance(infected_patients_per_day)"
      ],
      "metadata": {
        "colab": {
          "base_uri": "https://localhost:8080/"
        },
        "id": "Nggmd5BbHlUj",
        "outputId": "7b87de01-9dca-4fc4-d17d-3309a6a6d8dd"
      },
      "execution_count": null,
      "outputs": [
        {
          "output_type": "execute_result",
          "data": {
            "text/plain": [
              "253620.74736842106"
            ]
          },
          "metadata": {},
          "execution_count": 33
        }
      ]
    },
    {
      "cell_type": "code",
      "source": [
        "## standard deviation\n",
        "st.stdev(infected_patients_per_day)"
      ],
      "metadata": {
        "colab": {
          "base_uri": "https://localhost:8080/"
        },
        "id": "WpHnSSuYHjcE",
        "outputId": "ae025e75-7da9-46b0-f77b-44de1d910d33"
      },
      "execution_count": null,
      "outputs": [
        {
          "output_type": "execute_result",
          "data": {
            "text/plain": [
              "503.60773164082883"
            ]
          },
          "metadata": {},
          "execution_count": 34
        }
      ]
    }
  ]
}